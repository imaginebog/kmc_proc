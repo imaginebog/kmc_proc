{
 "metadata": {
  "name": "",
  "signature": "sha256:05b219d769a01689118e7df51e8e83d9edff759772a07a31e4e5d8646dbd128d"
 },
 "nbformat": 3,
 "nbformat_minor": 0,
 "worksheets": [
  {
   "cells": [
    {
     "cell_type": "code",
     "collapsed": false,
     "input": [
      "import pandas"
     ],
     "language": "python",
     "metadata": {},
     "outputs": [],
     "prompt_number": 2
    },
    {
     "cell_type": "code",
     "collapsed": false,
     "input": [
      "%cd D:\\free40"
     ],
     "language": "python",
     "metadata": {},
     "outputs": [
      {
       "output_type": "stream",
       "stream": "stdout",
       "text": [
        "D:\\free40\n"
       ]
      }
     ],
     "prompt_number": 3
    },
    {
     "cell_type": "code",
     "collapsed": false,
     "input": [
      "import glob\n",
      "from os import path"
     ],
     "language": "python",
     "metadata": {},
     "outputs": [],
     "prompt_number": 4
    },
    {
     "cell_type": "code",
     "collapsed": false,
     "input": [
      "files = glob.glob(\"*.txt\")"
     ],
     "language": "python",
     "metadata": {},
     "outputs": [],
     "prompt_number": 5
    },
    {
     "cell_type": "code",
     "collapsed": false,
     "input": [
      "valid_ids=[ 93, 143, 144, 182, 207, 232, 310, 325, 326, 330, 332, 374, 383, 399, 413, 414, 544, 545, 556, 566, 567, 595, 599, 600, 610, 616, 625, 789, 790, 806, 813, 815, 823, 906, 911, 912, 913, 939, 1006, 1221, 1232, 1249, 1253, 1258, 1267, 1286, 1300, 1326, 1339, ]"
     ],
     "language": "python",
     "metadata": {},
     "outputs": [],
     "prompt_number": 6
    },
    {
     "cell_type": "code",
     "collapsed": false,
     "input": [
      "missing = {}"
     ],
     "language": "python",
     "metadata": {},
     "outputs": [],
     "prompt_number": 7
    },
    {
     "cell_type": "code",
     "collapsed": false,
     "input": [
      "for f0 in files:\n",
      "    f1=\".\".join(f0.split(\".\")[:-1]+[\"xlsx\"])\n",
      "    table = pandas.read_table(f0,index_col=0)\n",
      "    index2=[int(i.rstrip(\"/\")) for i in table.index]\n",
      "    table.index=index2\n",
      "    missing[f0]=set(valid_ids)-set(table.index)\n",
      "    table2 = table.loc[valid_ids]\n",
      "    table2.to_excel(f1)"
     ],
     "language": "python",
     "metadata": {},
     "outputs": [],
     "prompt_number": 8
    },
    {
     "cell_type": "code",
     "collapsed": false,
     "input": [
      "for k,v in sorted(missing.items(),key=lambda x:x[0].split(\".\")[1]):\n",
      "    print \"%s\\t%d\\t%s\\n\\n\"%(k, len(v), sorted(v))"
     ],
     "language": "python",
     "metadata": {},
     "outputs": [
      {
       "output_type": "stream",
       "stream": "stdout",
       "text": [
        "rh.BA.area.txt\t8\t[332, 383, 599, 600, 616, 625, 1006, 1286]\n",
        "\n",
        "\n",
        "lh.BA.volume.txt\t8\t[332, 383, 599, 600, 616, 625, 1006, 1286]\n",
        "\n",
        "\n",
        "lh.BA.thickness.txt\t8\t[332, 383, 599, 600, 616, 625, 1006, 1286]\n",
        "\n",
        "\n",
        "lh.BA.area.txt\t8\t[332, 383, 599, 600, 616, 625, 1006, 1286]\n",
        "\n",
        "\n",
        "rh.BA.meancurv.txt\t8\t[332, 383, 599, 600, 616, 625, 1006, 1286]\n",
        "\n",
        "\n",
        "lh.BA.meancurv.txt\t8\t[332, 383, 599, 600, 616, 625, 1006, 1286]\n",
        "\n",
        "\n",
        "rh.BA.volume.txt\t8\t[332, 383, 599, 600, 616, 625, 1006, 1286]\n",
        "\n",
        "\n",
        "rh.BA.thickness.txt\t8\t[332, 383, 599, 600, 616, 625, 1006, 1286]\n",
        "\n",
        "\n",
        "lh.a2009s.volume.txt\t8\t[332, 383, 599, 600, 616, 625, 1006, 1286]\n",
        "\n",
        "\n",
        "lh.a2009s.thickness.txt\t8\t[332, 383, 599, 600, 616, 625, 1006, 1286]\n",
        "\n",
        "\n",
        "rh.a2009s.volume.txt\t8\t[332, 383, 599, 600, 616, 625, 1006, 1286]\n",
        "\n",
        "\n",
        "rh.a2009s.thickness.txt\t8\t[332, 383, 599, 600, 616, 625, 1006, 1286]\n",
        "\n",
        "\n",
        "rh.a2009s.area.txt\t8\t[332, 383, 599, 600, 616, 625, 1006, 1286]\n",
        "\n",
        "\n",
        "lh.a2009s.meancurv.txt\t8\t[332, 383, 599, 600, 616, 625, 1006, 1286]\n",
        "\n",
        "\n",
        "lh.a2009s.area.txt\t8\t[332, 383, 599, 600, 616, 625, 1006, 1286]\n",
        "\n",
        "\n",
        "rh.a2009s.meancurv.txt\t8\t[332, 383, 599, 600, 616, 625, 1006, 1286]\n",
        "\n",
        "\n",
        "aparc_volume_rh.txt\t8\t[332, 383, 599, 600, 616, 625, 1006, 1286]\n",
        "\n",
        "\n",
        "aseg_stats.txt\t8\t[332, 383, 599, 600, 616, 625, 1006, 1286]\n",
        "\n",
        "\n",
        "aparc_area_rh.txt\t8\t[332, 383, 599, 600, 616, 625, 1006, 1286]\n",
        "\n",
        "\n",
        "aparc_thickness_rh.txt\t8\t[332, 383, 599, 600, 616, 625, 1006, 1286]\n",
        "\n",
        "\n",
        "aparc_thickness_lh.txt\t8\t[332, 383, 599, 600, 616, 625, 1006, 1286]\n",
        "\n",
        "\n",
        "aparc_meancurv_rh.txt\t8\t[332, 383, 599, 600, 616, 625, 1006, 1286]\n",
        "\n",
        "\n",
        "wmparc_stats.txt\t8\t[332, 383, 599, 600, 616, 625, 1006, 1286]\n",
        "\n",
        "\n",
        "aparc_volume_lh.txt\t8\t[332, 383, 599, 600, 616, 625, 1006, 1286]\n",
        "\n",
        "\n",
        "aparc_meancurv_lh.txt\t8\t[332, 383, 599, 600, 616, 625, 1006, 1286]\n",
        "\n",
        "\n",
        "aparc_area_lh.txt\t8\t[332, 383, 599, 600, 616, 625, 1006, 1286]\n",
        "\n",
        "\n"
       ]
      }
     ],
     "prompt_number": 9
    },
    {
     "cell_type": "code",
     "collapsed": false,
     "input": [],
     "language": "python",
     "metadata": {},
     "outputs": []
    }
   ],
   "metadata": {}
  }
 ]
}